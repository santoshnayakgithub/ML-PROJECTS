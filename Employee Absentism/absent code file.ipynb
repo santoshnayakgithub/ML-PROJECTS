{
 "cells": [
  {
   "cell_type": "code",
   "execution_count": null,
   "metadata": {},
   "outputs": [],
   "source": [
    "# library setup\n",
    "import os\n",
    "import pandas as pd\n",
    "import numpy as np\n",
    "import matplotlib.pyplot as plt\n",
    "import sklearn\n",
    "import seaborn as sns\n",
    "from scipy import stats\n",
    "import random\n",
    "import statsmodels.api as sm\n",
    "from scipy.stats import pearsonr\n",
    "from sklearn import preprocessing\n",
    "from statsmodels.formula.api import ols\n",
    "from sklearn import linear_model\n",
    "from sklearn.ensemble import RandomForestRegressor\n",
    "from sklearn.model_selection import train_test_split\n",
    "from math import sqrt\n",
    "from sklearn import metrics\n",
    "from numpy import cov\n",
    "from sklearn.metrics import mean_squared_error\n",
    "from sklearn.tree import DecisionTreeRegressor\n",
    "pd.set_option('display.float_format', lambda x:'%f'%x)\n",
    "\n"
   ]
  },
  {
   "cell_type": "code",
   "execution_count": null,
   "metadata": {},
   "outputs": [],
   "source": [
    "os.chdir(\"/home/santosh\")"
   ]
  },
  {
   "cell_type": "code",
   "execution_count": null,
   "metadata": {},
   "outputs": [],
   "source": [
    "os.getcwd()"
   ]
  },
  {
   "cell_type": "code",
   "execution_count": null,
   "metadata": {},
   "outputs": [],
   "source": [
    "excel_file='Project.xls'"
   ]
  },
  {
   "cell_type": "code",
   "execution_count": null,
   "metadata": {
    "scrolled": true
   },
   "outputs": [],
   "source": [
    "absent = pd.read_excel(excel_file)"
   ]
  },
  {
   "cell_type": "code",
   "execution_count": null,
   "metadata": {},
   "outputs": [],
   "source": [
    "absent['Absenteeism time in hours'].value_counts()"
   ]
  },
  {
   "cell_type": "code",
   "execution_count": null,
   "metadata": {},
   "outputs": [],
   "source": [
    "# Missing Value Analysis\n",
    "missing_val = pd.DataFrame(absent.isnull().sum())\n",
    "\n",
    "\n",
    "\n"
   ]
  },
  {
   "cell_type": "code",
   "execution_count": null,
   "metadata": {},
   "outputs": [],
   "source": [
    "missing_val = missing_val.reset_index()"
   ]
  },
  {
   "cell_type": "code",
   "execution_count": null,
   "metadata": {},
   "outputs": [],
   "source": [
    "missing_val = missing_val.rename(columns = {'index':'variables',0:'Missing_Percentage'})"
   ]
  },
  {
   "cell_type": "code",
   "execution_count": null,
   "metadata": {},
   "outputs": [],
   "source": [
    "missing_val['Missing_Percentage'] = (missing_val['Missing_Percentage']/len(absent))*100"
   ]
  },
  {
   "cell_type": "code",
   "execution_count": null,
   "metadata": {},
   "outputs": [],
   "source": [
    "missing_val"
   ]
  },
  {
   "cell_type": "code",
   "execution_count": null,
   "metadata": {},
   "outputs": [],
   "source": [
    "# Imputing missing values with help of mean and median\n",
    "absent['Reason for absence'] = absent['Reason for absence'].fillna(absent['Reason for absence'].median())"
   ]
  },
  {
   "cell_type": "code",
   "execution_count": null,
   "metadata": {},
   "outputs": [],
   "source": [
    "absent['Month of absence'] = absent['Month of absence'].fillna(absent['Month of absence'].median())\n"
   ]
  },
  {
   "cell_type": "code",
   "execution_count": null,
   "metadata": {},
   "outputs": [],
   "source": [
    "absent['Transportation expense'] = absent['Transportation expense'].fillna(absent['Transportation expense'].median())\n"
   ]
  },
  {
   "cell_type": "code",
   "execution_count": null,
   "metadata": {},
   "outputs": [],
   "source": [
    "absent['Distance from Residence to Work'] = absent['Distance from Residence to Work'].fillna(absent['Distance from Residence to Work'].median())"
   ]
  },
  {
   "cell_type": "code",
   "execution_count": null,
   "metadata": {},
   "outputs": [],
   "source": [
    "absent['Service time'] = absent['Service time'].fillna(absent['Service time'].median())"
   ]
  },
  {
   "cell_type": "code",
   "execution_count": null,
   "metadata": {},
   "outputs": [],
   "source": [
    "absent['Age'] = absent['Age'].fillna(absent['Age'].median())"
   ]
  },
  {
   "cell_type": "code",
   "execution_count": null,
   "metadata": {},
   "outputs": [],
   "source": [
    "absent['Work load Average/day '] = absent['Work load Average/day '].fillna(absent['Work load Average/day '].median())"
   ]
  },
  {
   "cell_type": "code",
   "execution_count": null,
   "metadata": {},
   "outputs": [],
   "source": [
    "absent['Hit target'] = absent['Hit target'].fillna(absent['Hit target'].median())"
   ]
  },
  {
   "cell_type": "code",
   "execution_count": null,
   "metadata": {},
   "outputs": [],
   "source": [
    "absent['Disciplinary failure'] = absent['Disciplinary failure'].fillna(absent['Disciplinary failure'].median())"
   ]
  },
  {
   "cell_type": "code",
   "execution_count": null,
   "metadata": {},
   "outputs": [],
   "source": [
    "absent['Education'] = absent['Education'].fillna(absent['Education'].median())"
   ]
  },
  {
   "cell_type": "code",
   "execution_count": null,
   "metadata": {},
   "outputs": [],
   "source": [
    "absent['Social drinker'] = absent['Social drinker'].fillna(absent['Social drinker'].median())"
   ]
  },
  {
   "cell_type": "code",
   "execution_count": null,
   "metadata": {},
   "outputs": [],
   "source": [
    "absent['Social smoker'] = absent['Social smoker'].fillna(absent['Social smoker'].median())"
   ]
  },
  {
   "cell_type": "code",
   "execution_count": null,
   "metadata": {},
   "outputs": [],
   "source": [
    "\n",
    "absent['Son'] = absent['Son'].fillna(absent['Son'].median())"
   ]
  },
  {
   "cell_type": "code",
   "execution_count": null,
   "metadata": {},
   "outputs": [],
   "source": [
    "absent['Pet'] = absent['Pet'].fillna(absent['Pet'].median())"
   ]
  },
  {
   "cell_type": "code",
   "execution_count": null,
   "metadata": {},
   "outputs": [],
   "source": [
    "absent['Height'] = absent['Height'].fillna(absent['Height'].median())"
   ]
  },
  {
   "cell_type": "code",
   "execution_count": null,
   "metadata": {},
   "outputs": [],
   "source": [
    "absent['Weight'] = absent['Weight'].fillna(absent['Weight'].median())"
   ]
  },
  {
   "cell_type": "code",
   "execution_count": null,
   "metadata": {},
   "outputs": [],
   "source": [
    "absent['Body mass index'] = absent['Body mass index'].fillna(absent['Body mass index'].mean())"
   ]
  },
  {
   "cell_type": "code",
   "execution_count": null,
   "metadata": {},
   "outputs": [],
   "source": [
    "absent['Absenteeism time in hours'] = absent['Absenteeism time in hours'].fillna(absent['Absenteeism time in hours'].median())"
   ]
  },
  {
   "cell_type": "code",
   "execution_count": null,
   "metadata": {},
   "outputs": [],
   "source": [
    "absent.isnull().sum()"
   ]
  },
  {
   "cell_type": "code",
   "execution_count": null,
   "metadata": {},
   "outputs": [],
   "source": [
    "data = absent.copy()"
   ]
  },
  {
   "cell_type": "code",
   "execution_count": null,
   "metadata": {},
   "outputs": [],
   "source": [
    "absent['ID'] = absent['ID'].astype('category')\n",
    "absent['Reason for absence'] = absent['Reason for absence'].astype('category')\n",
    "absent['Month of absence'] = absent['Month of absence'].astype('category')\n",
    "absent['Day of the week'] = absent['Day of the week'].astype('category')\n",
    "absent['Seasons'] = absent['Seasons'].astype('category')\n",
    "absent['Disciplinary failure'] = absent['Disciplinary failure'].astype('category')\n",
    "absent['Education'] = absent['Education'].astype('category')\n",
    "absent['Social drinker'] = absent['Social drinker'].astype('category')\n",
    "absent['Social smoker'] = absent['Social smoker'].astype('category')"
   ]
  },
  {
   "cell_type": "code",
   "execution_count": null,
   "metadata": {},
   "outputs": [],
   "source": [
    "#numeric = absent[['Transportation expense', 'Distance from Residence to Work', 'Service time', 'Age', 'Work load Average/day ', 'Hit target',\n",
    "    # 'Son', 'Pet', 'Weight', 'Height', 'Body mass index', 'Absenteeism time in hours']]\n"
   ]
  },
  {
   "cell_type": "code",
   "execution_count": null,
   "metadata": {},
   "outputs": [],
   "source": [
    "#numeric.shape\n",
    "#factor = absent[['ID', 'Reason for absence', 'Month of absence', 'Day of the week','Seasons', 'Disciplinary failure', 'Education', 'Social drinker',\n",
    " #      'Social smoker']]\n"
   ]
  },
  {
   "cell_type": "code",
   "execution_count": null,
   "metadata": {},
   "outputs": [],
   "source": [
    "# outlier analysis\n",
    "get_ipython().run_line_magic('matplotlib', 'inline')\n",
    "plt.boxplot(absent['Transportation expense'])\n"
   ]
  },
  {
   "cell_type": "code",
   "execution_count": null,
   "metadata": {},
   "outputs": [],
   "source": [
    "plt.boxplot(absent['Distance from Residence to Work'])"
   ]
  },
  {
   "cell_type": "code",
   "execution_count": null,
   "metadata": {},
   "outputs": [],
   "source": [
    "plt.boxplot(absent['Service time'])"
   ]
  },
  {
   "cell_type": "code",
   "execution_count": null,
   "metadata": {},
   "outputs": [],
   "source": [
    "plt.boxplot(absent['Age'])"
   ]
  },
  {
   "cell_type": "code",
   "execution_count": null,
   "metadata": {},
   "outputs": [],
   "source": [
    "\n",
    "plt.boxplot(absent['Work load Average/day '])"
   ]
  },
  {
   "cell_type": "code",
   "execution_count": null,
   "metadata": {},
   "outputs": [],
   "source": [
    "\n",
    "plt.boxplot(absent['Hit target'])"
   ]
  },
  {
   "cell_type": "code",
   "execution_count": null,
   "metadata": {},
   "outputs": [],
   "source": [
    "plt.boxplot(absent['Son'])"
   ]
  },
  {
   "cell_type": "code",
   "execution_count": null,
   "metadata": {},
   "outputs": [],
   "source": [
    "\n",
    "plt.boxplot(absent['Pet'])"
   ]
  },
  {
   "cell_type": "code",
   "execution_count": null,
   "metadata": {},
   "outputs": [],
   "source": [
    "plt.boxplot(absent['Weight'])"
   ]
  },
  {
   "cell_type": "code",
   "execution_count": null,
   "metadata": {},
   "outputs": [],
   "source": [
    "plt.boxplot(absent['Height'])"
   ]
  },
  {
   "cell_type": "code",
   "execution_count": null,
   "metadata": {},
   "outputs": [],
   "source": [
    "plt.boxplot(absent['Body mass index'])"
   ]
  },
  {
   "cell_type": "code",
   "execution_count": null,
   "metadata": {},
   "outputs": [],
   "source": [
    "plt.boxplot(absent['Absenteeism time in hours'])"
   ]
  },
  {
   "cell_type": "code",
   "execution_count": null,
   "metadata": {},
   "outputs": [],
   "source": [
    "for i in absent :\n",
    "    print(i)\n",
    "    q75,q25 = np.percentile(absent.loc[:,i],[75,25])\n",
    "    iqr = q75 - q25\n",
    "    min = q25 - (iqr*1.5)\n",
    "    max = q75 + (iqr*1.5)\n",
    "    \n",
    "    print(min)\n",
    "    print(max)"
   ]
  },
  {
   "cell_type": "code",
   "execution_count": null,
   "metadata": {},
   "outputs": [],
   "source": [
    "# calculating minimum and maximum values \n",
    "q75,q25 = np.percentile(absent['Transportation expense'],[75,25])"
   ]
  },
  {
   "cell_type": "code",
   "execution_count": null,
   "metadata": {},
   "outputs": [],
   "source": [
    "iqr = q75 - q25\n"
   ]
  },
  {
   "cell_type": "code",
   "execution_count": null,
   "metadata": {},
   "outputs": [],
   "source": [
    "minimum = q25 - (iqr*1.5)\n",
    "maximum = q75 + (iqr*1.5)\n",
    "print(minimum)\n",
    "print(maximum)\n"
   ]
  },
  {
   "cell_type": "code",
   "execution_count": null,
   "metadata": {},
   "outputs": [],
   "source": [
    "absent.loc[absent['Transportation expense']< minimum,:'Transportation expense'] = np.nan\n",
    "absent.loc[absent['Transportation expense']> maximum,:'Transportation expense'] = np.nan"
   ]
  },
  {
   "cell_type": "code",
   "execution_count": null,
   "metadata": {},
   "outputs": [],
   "source": [
    "\n",
    "q75,q25 = np.percentile(absent['Age'],[75,25])"
   ]
  },
  {
   "cell_type": "code",
   "execution_count": null,
   "metadata": {},
   "outputs": [],
   "source": [
    "iqr = q75 - q25"
   ]
  },
  {
   "cell_type": "code",
   "execution_count": null,
   "metadata": {},
   "outputs": [],
   "source": [
    "minimum2 = q25 - (iqr*1.5)\n",
    "maximum2 = q75 + (iqr*1.5)\n",
    "print(minimum2)\n",
    "print(maximum2)"
   ]
  },
  {
   "cell_type": "code",
   "execution_count": null,
   "metadata": {},
   "outputs": [],
   "source": [
    "absent.loc[absent['Age']< minimum2,:'Age'] = np.nan\n",
    "absent.loc[absent['Age']> maximum2,:'Age'] = np.nan"
   ]
  },
  {
   "cell_type": "code",
   "execution_count": null,
   "metadata": {},
   "outputs": [],
   "source": [
    "\n",
    "q75,q25 = np.percentile(absent['Service time'],[75,25])"
   ]
  },
  {
   "cell_type": "code",
   "execution_count": null,
   "metadata": {},
   "outputs": [],
   "source": [
    "iqr = q75 - q25"
   ]
  },
  {
   "cell_type": "code",
   "execution_count": null,
   "metadata": {},
   "outputs": [],
   "source": [
    "minimum = q25 - (iqr*1.5)\n",
    "maximum = q75 + (iqr*1.5)\n",
    "print(minimum)\n",
    "print(maximum)"
   ]
  },
  {
   "cell_type": "code",
   "execution_count": null,
   "metadata": {},
   "outputs": [],
   "source": [
    "absent.loc[absent['Service time']< minimum,:'Service time'] = np.nan\n",
    "absent.loc[absent['Service time']> maximum,:'Service time'] = np.nan"
   ]
  },
  {
   "cell_type": "code",
   "execution_count": null,
   "metadata": {},
   "outputs": [],
   "source": [
    "q75,q25 = np.percentile(absent['Work load Average/day '],[75,25])"
   ]
  },
  {
   "cell_type": "code",
   "execution_count": null,
   "metadata": {},
   "outputs": [],
   "source": [
    "iqr = q75 - q25"
   ]
  },
  {
   "cell_type": "code",
   "execution_count": null,
   "metadata": {},
   "outputs": [],
   "source": [
    "minimum3 = q25 - (iqr*1.5)\n",
    "maximum3 = q75 + (iqr*1.5)\n",
    "print(minimum3)\n",
    "print(maximum3)"
   ]
  },
  {
   "cell_type": "code",
   "execution_count": null,
   "metadata": {},
   "outputs": [],
   "source": [
    "absent.loc[absent['Work load Average/day ']< minimum3,:'Work load Average/day '] = np.nan\n",
    "absent.loc[absent['Work load Average/day ']> maximum3,:'Work load Average/day '] = np.nan\n"
   ]
  },
  {
   "cell_type": "code",
   "execution_count": null,
   "metadata": {},
   "outputs": [],
   "source": [
    "q75,q25 = np.percentile(absent['Hit target'],[75,25])"
   ]
  },
  {
   "cell_type": "code",
   "execution_count": null,
   "metadata": {},
   "outputs": [],
   "source": [
    "iqr = q75 - q25"
   ]
  },
  {
   "cell_type": "code",
   "execution_count": null,
   "metadata": {},
   "outputs": [],
   "source": [
    "minimum4 = q25 - (iqr*1.5)\n",
    "maximum4 = q75 + (iqr*1.5)\n",
    "print(minimum4)\n",
    "print(maximum4)"
   ]
  },
  {
   "cell_type": "code",
   "execution_count": null,
   "metadata": {},
   "outputs": [],
   "source": [
    "absent.loc[absent['Hit target']< minimum4,:'Hit target'] = np.nan\n",
    "absent.loc[absent['Hit target']> maximum4,:'Hit target'] = np.nan"
   ]
  },
  {
   "cell_type": "code",
   "execution_count": null,
   "metadata": {},
   "outputs": [],
   "source": [
    "q75,q25 = np.percentile(absent['Pet'],[75,25])"
   ]
  },
  {
   "cell_type": "code",
   "execution_count": null,
   "metadata": {},
   "outputs": [],
   "source": [
    "iqr = q75 - q25"
   ]
  },
  {
   "cell_type": "code",
   "execution_count": null,
   "metadata": {},
   "outputs": [],
   "source": [
    "minimum6 = q25 - (iqr*1.5)\n",
    "maximum6 = q75 + (iqr*1.5)\n",
    "print(minimum6)\n",
    "print(maximum6)"
   ]
  },
  {
   "cell_type": "code",
   "execution_count": null,
   "metadata": {},
   "outputs": [],
   "source": [
    "absent.loc[absent['Pet']< minimum6,:'Pet'] = np.nan\n",
    "absent.loc[absent['Pet']> maximum6,:'Pet'] = np.nan"
   ]
  },
  {
   "cell_type": "code",
   "execution_count": null,
   "metadata": {},
   "outputs": [],
   "source": [
    "q75,q25 = np.percentile(absent['Height'],[75,25])"
   ]
  },
  {
   "cell_type": "code",
   "execution_count": null,
   "metadata": {},
   "outputs": [],
   "source": [
    "iqr = q75 - q25"
   ]
  },
  {
   "cell_type": "code",
   "execution_count": null,
   "metadata": {},
   "outputs": [],
   "source": [
    "\n",
    "minimum8 = q25 - (iqr*1.5)\n",
    "maximum8 = q75 + (iqr*1.5)\n",
    "print(minimum8)\n",
    "print(maximum8)"
   ]
  },
  {
   "cell_type": "code",
   "execution_count": null,
   "metadata": {},
   "outputs": [],
   "source": [
    "absent.loc[absent['Height']< minimum8,:'Height'] = np.nan\n",
    "absent.loc[absent['Height']> maximum8,:'Height'] = np.nan\n"
   ]
  },
  {
   "cell_type": "code",
   "execution_count": null,
   "metadata": {},
   "outputs": [],
   "source": [
    "# imputing outliers values with median\n",
    "absent['Transportation expense'] = absent['Transportation expense'].fillna(absent['Transportation expense'].median())\n",
    "absent['Age'] = absent['Age'].fillna(absent['Age'].median())\n",
    "absent['Work load Average/day '] = absent['Work load Average/day '].fillna(absent['Work load Average/day '].median())\n",
    "absent['Hit target'] = absent['Hit target'].fillna(absent['Hit target'].median())\n",
    "absent['Service time'] = absent['Service time'].fillna(absent['Service time'].median())\n",
    "absent['Pet'] = absent['Pet'].fillna(absent['Pet'].median())\n",
    "absent['Height'] = absent['Height'].fillna(absent['Height'].median())\n",
    "absent['Absenteeism time in hours'] = absent['Absenteeism time in hours'].fillna(absent['Absenteeism time in hours'].median())\n",
    "\n"
   ]
  },
  {
   "cell_type": "code",
   "execution_count": null,
   "metadata": {},
   "outputs": [],
   "source": [
    "# Copying data in new object \"data\"\n",
    "absent['ID'] = data['ID']\n",
    "absent['Reason for absence'] = data['Reason for absence']\n",
    "absent['Month of absence'] = data['Month of absence']\n",
    "absent['Day of the week'] = data['Day of the week']\n",
    "absent['Seasons'] = data['Seasons']\n",
    "absent['Distance from Residence to Work'] = data['Distance from Residence to Work']\n",
    "absent['Disciplinary failure'] = data['Disciplinary failure']\n",
    "absent['Education'] = data['Education']\n",
    "absent['Son'] = data['Son']\n",
    "absent['Social drinker'] = data['Social drinker']\n",
    "absent['Social smoker'] = data['Social smoker']\n",
    "absent['Weight'] = data['Weight']\n",
    "absent['Body mass index'] = data ['Body mass index']\n"
   ]
  },
  {
   "cell_type": "code",
   "execution_count": null,
   "metadata": {},
   "outputs": [],
   "source": [
    "# checking missing values after outlier analysis\n",
    "missval = pd.DataFrame(absent.isnull().sum())"
   ]
  },
  {
   "cell_type": "code",
   "execution_count": null,
   "metadata": {},
   "outputs": [],
   "source": [
    "missval"
   ]
  },
  {
   "cell_type": "code",
   "execution_count": null,
   "metadata": {},
   "outputs": [],
   "source": [
    "# Converting data in proper data types\n",
    "absent['ID'] = absent['ID'].astype('category')\n",
    "absent['Reason for absence'] = absent['Reason for absence'].astype('category')\n",
    "absent['Month of absence'] = absent['Month of absence'].astype('category')\n",
    "absent['Day of the week'] = absent['Day of the week'].astype('category')\n",
    "absent['Seasons'] = absent['Seasons'].astype('category')\n",
    "absent['Disciplinary failure'] = absent['Disciplinary failure'].astype('category')\n",
    "absent['Education'] = absent['Education'].astype('category')\n",
    "absent['Social drinker'] = absent['Social drinker'].astype('category')\n",
    "absent['Social smoker'] = absent['Social smoker'].astype('category')\n"
   ]
  },
  {
   "cell_type": "code",
   "execution_count": null,
   "metadata": {},
   "outputs": [],
   "source": [
    "# feature selection\n",
    "numeric_c = absent[['Transportation expense', 'Distance from Residence to Work', 'Service time', 'Age', 'Work load Average/day ', 'Hit target',\n",
    "     'Son', 'Pet', 'Weight', 'Height', 'Body mass index','Absenteeism time in hours']]\n"
   ]
  },
  {
   "cell_type": "code",
   "execution_count": null,
   "metadata": {},
   "outputs": [],
   "source": [
    "# Feature selection\n",
    "corr = numeric_c.corr()"
   ]
  },
  {
   "cell_type": "code",
   "execution_count": null,
   "metadata": {},
   "outputs": [],
   "source": [
    "f,ax = plt.subplots(figsize = (10,8))\n",
    "sns.heatmap(corr,mask = np.zeros_like(corr,dtype = np.object),cmap = sns.diverging_palette(220,10,as_cmap = True),square = True, ax=ax,annot = True)\n"
   ]
  },
  {
   "cell_type": "code",
   "execution_count": null,
   "metadata": {},
   "outputs": [],
   "source": [
    "\n",
    "# anova for categorical variable\n",
    "factor = absent[['ID', 'Reason for absence', 'Month of absence', 'Day of the week','Seasons', 'Disciplinary failure', 'Education', 'Social drinker',\n",
    "       'Social smoker',]]\n"
   ]
  },
  {
   "cell_type": "code",
   "execution_count": null,
   "metadata": {},
   "outputs": [],
   "source": [
    "print(stats.f_oneway(absent[\"Absenteeism time in hours\"],absent[\"Reason for absence\"]))"
   ]
  },
  {
   "cell_type": "code",
   "execution_count": null,
   "metadata": {},
   "outputs": [],
   "source": [
    "print(stats.f_oneway(absent[\"Absenteeism time in hours\"],absent[\"Month of absence\"]))"
   ]
  },
  {
   "cell_type": "code",
   "execution_count": null,
   "metadata": {},
   "outputs": [],
   "source": [
    "print(stats.f_oneway(absent[\"Absenteeism time in hours\"],absent[\"Day of the week\"]))\n"
   ]
  },
  {
   "cell_type": "code",
   "execution_count": null,
   "metadata": {},
   "outputs": [],
   "source": [
    "print(stats.f_oneway(absent[\"Absenteeism time in hours\"],absent[\"Seasons\"]))"
   ]
  },
  {
   "cell_type": "code",
   "execution_count": null,
   "metadata": {},
   "outputs": [],
   "source": [
    "print(stats.f_oneway(absent[\"Absenteeism time in hours\"],absent[\"Disciplinary failure\"]))"
   ]
  },
  {
   "cell_type": "code",
   "execution_count": null,
   "metadata": {},
   "outputs": [],
   "source": [
    "print(stats.f_oneway(absent[\"Absenteeism time in hours\"],absent[\"Education\"]))"
   ]
  },
  {
   "cell_type": "code",
   "execution_count": null,
   "metadata": {},
   "outputs": [],
   "source": [
    "print(stats.f_oneway(absent[\"Absenteeism time in hours\"],absent[\"Social drinker\"]))\n"
   ]
  },
  {
   "cell_type": "code",
   "execution_count": null,
   "metadata": {},
   "outputs": [],
   "source": [
    "print(stats.f_oneway(absent[\"Absenteeism time in hours\"],absent[\"Social smoker\"]))\n"
   ]
  },
  {
   "cell_type": "code",
   "execution_count": null,
   "metadata": {},
   "outputs": [],
   "source": [
    "data = absent.copy()"
   ]
  },
  {
   "cell_type": "code",
   "execution_count": null,
   "metadata": {},
   "outputs": [],
   "source": [
    "absent = absent.drop(['ID','Seasons','Education','Height','Hit target','Pet','Body mass index','Disciplinary failure','Age','Social smoker','Social drinker','Son'],axis = 1)"
   ]
  },
  {
   "cell_type": "code",
   "execution_count": null,
   "metadata": {},
   "outputs": [],
   "source": [
    "absent.shape"
   ]
  },
  {
   "cell_type": "code",
   "execution_count": null,
   "metadata": {},
   "outputs": [],
   "source": [
    "# DAta normalisation\n",
    "#Normality check\n",
    "absent['Transportation expense'].hist(bins = 20)"
   ]
  },
  {
   "cell_type": "code",
   "execution_count": null,
   "metadata": {},
   "outputs": [],
   "source": [
    "absent['Distance from Residence to Work'].hist(bins = 20)"
   ]
  },
  {
   "cell_type": "code",
   "execution_count": null,
   "metadata": {},
   "outputs": [],
   "source": [
    "absent['Service time'].hist(bins = 20)"
   ]
  },
  {
   "cell_type": "code",
   "execution_count": null,
   "metadata": {},
   "outputs": [],
   "source": [
    "absent[ 'Work load Average/day '].hist(bins = 20)"
   ]
  },
  {
   "cell_type": "code",
   "execution_count": null,
   "metadata": {},
   "outputs": [],
   "source": [
    "absent['Weight'].hist(bins = 20)"
   ]
  },
  {
   "cell_type": "code",
   "execution_count": null,
   "metadata": {},
   "outputs": [],
   "source": [
    "# Data Normalisation\n",
    "from sklearn.preprocessing import normalize\n",
    "normalized_absent = preprocessing.normalize(absent)"
   ]
  },
  {
   "cell_type": "code",
   "execution_count": null,
   "metadata": {},
   "outputs": [],
   "source": [
    "absent.dtypes"
   ]
  },
  {
   "cell_type": "code",
   "execution_count": null,
   "metadata": {},
   "outputs": [],
   "source": [
    "# ML Algorithm\n",
    "## dividing data into train and test\n",
    "train,test = train_test_split(absent,test_size= 0.2)\n"
   ]
  },
  {
   "cell_type": "code",
   "execution_count": null,
   "metadata": {},
   "outputs": [],
   "source": [
    "# Decision Tree Regression\n",
    "random.seed(123)\n",
    "fit = DecisionTreeRegressor(max_depth = 2).fit(train.iloc[:,0:8],train.iloc[:,8])"
   ]
  },
  {
   "cell_type": "code",
   "execution_count": null,
   "metadata": {},
   "outputs": [],
   "source": [
    "predictions_dt = fit.predict(test.iloc[:,0:8])\n"
   ]
  },
  {
   "cell_type": "code",
   "execution_count": null,
   "metadata": {},
   "outputs": [],
   "source": [
    "mse_dt = (mean_squared_error(test.iloc[:,8], predictions_dt))\n",
    "print(mse_dt)\n"
   ]
  },
  {
   "cell_type": "code",
   "execution_count": null,
   "metadata": {},
   "outputs": [],
   "source": [
    "rmse_dt = sqrt(mean_squared_error(test.iloc[:,8],predictions_dt))\n",
    "print(rmse_dt)"
   ]
  },
  {
   "cell_type": "code",
   "execution_count": null,
   "metadata": {},
   "outputs": [],
   "source": [
    "# Random forest\n",
    "# n = 100\n",
    "random.seed(123)\n",
    "rfregressor100 = RandomForestRegressor(n_estimators = 100, random_state = 0)\n",
    "rfregressor100.fit(train.iloc[:,0:8],train.iloc[:,8])\n"
   ]
  },
  {
   "cell_type": "code",
   "execution_count": null,
   "metadata": {},
   "outputs": [],
   "source": [
    "predictions_rf100 = rfregressor100.predict(test.iloc[:,0:8])"
   ]
  },
  {
   "cell_type": "code",
   "execution_count": null,
   "metadata": {},
   "outputs": [],
   "source": [
    "mse_rf100 = (mean_squared_error(test.iloc[:,8], predictions_rf100))\n",
    "print(mse_rf100)"
   ]
  },
  {
   "cell_type": "code",
   "execution_count": null,
   "metadata": {},
   "outputs": [],
   "source": [
    "rmse_rf100 = sqrt(mean_squared_error(test.iloc[:,8],predictions_rf100))\n",
    "print(rmse_rf100)"
   ]
  },
  {
   "cell_type": "code",
   "execution_count": null,
   "metadata": {},
   "outputs": [],
   "source": [
    "# Random forest for n = 200\n",
    "random.seed(123)\n",
    "rfregressor200 = RandomForestRegressor(n_estimators = 200, random_state = 0)\n",
    "rfregressor200.fit(train.iloc[:,0:8],train.iloc[:,8])\n"
   ]
  },
  {
   "cell_type": "code",
   "execution_count": null,
   "metadata": {},
   "outputs": [],
   "source": [
    "predictions_rf200 = rfregressor200.predict(test.iloc[:,0:8])"
   ]
  },
  {
   "cell_type": "code",
   "execution_count": null,
   "metadata": {},
   "outputs": [],
   "source": [
    "mse_rf200 = (mean_squared_error(test.iloc[:,8], predictions_rf200))\n",
    "print(mse_rf200)"
   ]
  },
  {
   "cell_type": "code",
   "execution_count": null,
   "metadata": {},
   "outputs": [],
   "source": [
    "rmse_rf200 = sqrt(mean_squared_error(test.iloc[:,8],predictions_rf200))\n",
    "print(rmse_rf200)"
   ]
  },
  {
   "cell_type": "code",
   "execution_count": null,
   "metadata": {},
   "outputs": [],
   "source": [
    "# Random forest for n = 300\n",
    "\n",
    "rfregressor300 = RandomForestRegressor(n_estimators = 300, random_state = 0)\n",
    "rfregressor300.fit(train.iloc[:,0:8],train.iloc[:,8])\n"
   ]
  },
  {
   "cell_type": "code",
   "execution_count": null,
   "metadata": {},
   "outputs": [],
   "source": [
    "predictions_rf300 = rfregressor300.predict(test.iloc[:,0:8])\n"
   ]
  },
  {
   "cell_type": "code",
   "execution_count": null,
   "metadata": {},
   "outputs": [],
   "source": [
    "mse_rf300 = (mean_squared_error(test.iloc[:,8], predictions_rf300))\n",
    "print(mse_rf300)\n"
   ]
  },
  {
   "cell_type": "code",
   "execution_count": null,
   "metadata": {},
   "outputs": [],
   "source": [
    "rmse_rf300 = sqrt(mean_squared_error(test.iloc[:,8],predictions_rf300))\n",
    "print(rmse_rf300)"
   ]
  },
  {
   "cell_type": "code",
   "execution_count": null,
   "metadata": {},
   "outputs": [],
   "source": [
    "# Random forest for n = 500\n",
    "\n",
    "rfregressor500 = RandomForestRegressor(n_estimators = 500, random_state = 0)\n",
    "rfregressor500.fit(train.iloc[:,0:8],train.iloc[:,8])\n"
   ]
  },
  {
   "cell_type": "code",
   "execution_count": null,
   "metadata": {},
   "outputs": [],
   "source": [
    "predictions_rf500 = rfregressor500.predict(test.iloc[:,0:8])"
   ]
  },
  {
   "cell_type": "code",
   "execution_count": null,
   "metadata": {},
   "outputs": [],
   "source": [
    "mse_rf500 = (mean_squared_error(test.iloc[:,8], predictions_rf500))\n",
    "print(mse_rf500)"
   ]
  },
  {
   "cell_type": "code",
   "execution_count": null,
   "metadata": {},
   "outputs": [],
   "source": [
    "rmse_rf500 = sqrt(mean_squared_error(test.iloc[:,8],predictions_rf500))\n",
    "print(rmse_rf500)"
   ]
  },
  {
   "cell_type": "code",
   "execution_count": null,
   "metadata": {},
   "outputs": [],
   "source": [
    "# Linear regression \n",
    "\n",
    "absent['Reason for absence'] = absent['Reason for absence'].astype('float')\n",
    "absent['Day of the week'] = absent['Day of the week'].astype('float')\n",
    "absent['Month of absence'] = absent['Month of absence'].astype('float')\n"
   ]
  },
  {
   "cell_type": "code",
   "execution_count": null,
   "metadata": {},
   "outputs": [],
   "source": [
    "train1,test1 = train_test_split(absent,test_size = 0.2)"
   ]
  },
  {
   "cell_type": "code",
   "execution_count": null,
   "metadata": {},
   "outputs": [],
   "source": [
    "line_regression = sm.OLS(train1.iloc[:,8],train1.iloc[:,0:8]).fit()\n"
   ]
  },
  {
   "cell_type": "code",
   "execution_count": null,
   "metadata": {},
   "outputs": [],
   "source": [
    "line_regression.summary()"
   ]
  },
  {
   "cell_type": "code",
   "execution_count": null,
   "metadata": {},
   "outputs": [],
   "source": [
    "predictions_lr = line_regression.predict(test1.iloc[:,0:8])"
   ]
  },
  {
   "cell_type": "code",
   "execution_count": null,
   "metadata": {},
   "outputs": [],
   "source": [
    "mse_lr = (mean_squared_error(test.iloc[:,8], predictions_lr))\n",
    "print(mse_lr)"
   ]
  },
  {
   "cell_type": "code",
   "execution_count": null,
   "metadata": {},
   "outputs": [],
   "source": [
    "rmse_linear = sqrt(mean_squared_error(test1.iloc[:,8],predictions_lr))\n",
    "print(rmse_linear)\n"
   ]
  },
  {
   "cell_type": "code",
   "execution_count": null,
   "metadata": {},
   "outputs": [],
   "source": [
    "## LOSS per month\n",
    "data.shape"
   ]
  },
  {
   "cell_type": "code",
   "execution_count": null,
   "metadata": {},
   "outputs": [],
   "source": [
    "loss = data[['Month of absence','Service time','Work load Average/day ','Absenteeism time in hours']]"
   ]
  },
  {
   "cell_type": "code",
   "execution_count": null,
   "metadata": {},
   "outputs": [],
   "source": [
    "# Work loss = (Workload*Absenteeism time)/Service time\n",
    "\n",
    "loss[\"loss_month\"] = (loss['Work load Average/day ']*loss['Absenteeism time in hours'])/loss['Service time']"
   ]
  },
  {
   "cell_type": "code",
   "execution_count": null,
   "metadata": {},
   "outputs": [],
   "source": [
    "loss.shape\n",
    "loss.head(5)"
   ]
  },
  {
   "cell_type": "code",
   "execution_count": null,
   "metadata": {},
   "outputs": [],
   "source": [
    "loss[\"loss_month\"] = np.round(loss[\"loss_month\"]).astype('int64')"
   ]
  },
  {
   "cell_type": "code",
   "execution_count": null,
   "metadata": {},
   "outputs": [],
   "source": [
    "No_absent = loss[loss['Month of absence'] == 0]['loss_month'].sum()\n",
    "January = loss[loss['Month of absence'] == 1]['loss_month'].sum()\n",
    "February = loss[loss['Month of absence'] == 2]['loss_month'].sum()\n",
    "March = loss[loss['Month of absence'] == 3]['loss_month'].sum()\n",
    "April = loss[loss['Month of absence'] == 4]['loss_month'].sum()\n",
    "May = loss[loss['Month of absence'] == 5]['loss_month'].sum()\n",
    "June = loss[loss['Month of absence'] == 6]['loss_month'].sum()\n",
    "July = loss[loss['Month of absence'] == 7]['loss_month'].sum()\n",
    "August = loss[loss['Month of absence'] == 8]['loss_month'].sum()\n",
    "September = loss[loss['Month of absence'] == 9]['loss_month'].sum()\n",
    "October = loss[loss['Month of absence'] == 10]['loss_month'].sum()\n",
    "November = loss[loss['Month of absence'] == 11]['loss_month'].sum()\n",
    "December = loss[loss['Month of absence'] == 12]['loss_month'].sum()\n",
    "\n"
   ]
  },
  {
   "cell_type": "code",
   "execution_count": null,
   "metadata": {},
   "outputs": [],
   "source": [
    "loss.head(5)"
   ]
  },
  {
   "cell_type": "code",
   "execution_count": null,
   "metadata": {},
   "outputs": [],
   "source": [
    "data1 = {'No Absent': No_absent, 'Janaury': January,'Febraury': February,'March': March,\n",
    "       'April': April, 'May': May,'June': June,'July': July,\n",
    "       'August': August,'September': September,'October': October,'November': November,\n",
    "       'December': December}\n"
   ]
  },
  {
   "cell_type": "code",
   "execution_count": null,
   "metadata": {},
   "outputs": [],
   "source": [
    "workloss = pd.DataFrame.from_dict(data1,orient = 'index')\n"
   ]
  },
  {
   "cell_type": "code",
   "execution_count": null,
   "metadata": {},
   "outputs": [],
   "source": [
    "workloss.rename(index = str, columns={0:\"Workload loss pr month\"})"
   ]
  }
 ],
 "metadata": {
  "kernelspec": {
   "display_name": "Python 3",
   "language": "python",
   "name": "python3"
  },
  "language_info": {
   "codemirror_mode": {
    "name": "ipython",
    "version": 3
   },
   "file_extension": ".py",
   "mimetype": "text/x-python",
   "name": "python",
   "nbconvert_exporter": "python",
   "pygments_lexer": "ipython3",
   "version": "3.6.8"
  }
 },
 "nbformat": 4,
 "nbformat_minor": 2
}
